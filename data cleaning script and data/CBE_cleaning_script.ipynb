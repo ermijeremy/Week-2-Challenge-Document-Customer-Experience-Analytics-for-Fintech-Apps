{
 "cells": [
  {
   "cell_type": "markdown",
   "metadata": {},
   "source": [
    "importing important libraries and reading the file"
   ]
  },
  {
   "cell_type": "code",
   "execution_count": 1,
   "metadata": {},
   "outputs": [
    {
     "data": {
      "text/html": [
       "<div>\n",
       "<style scoped>\n",
       "    .dataframe tbody tr th:only-of-type {\n",
       "        vertical-align: middle;\n",
       "    }\n",
       "\n",
       "    .dataframe tbody tr th {\n",
       "        vertical-align: top;\n",
       "    }\n",
       "\n",
       "    .dataframe thead th {\n",
       "        text-align: right;\n",
       "    }\n",
       "</style>\n",
       "<table border=\"1\" class=\"dataframe\">\n",
       "  <thead>\n",
       "    <tr style=\"text-align: right;\">\n",
       "      <th></th>\n",
       "      <th>Unnamed: 0</th>\n",
       "      <th>review</th>\n",
       "      <th>rating</th>\n",
       "      <th>date</th>\n",
       "      <th>bank</th>\n",
       "      <th>source</th>\n",
       "    </tr>\n",
       "  </thead>\n",
       "  <tbody>\n",
       "    <tr>\n",
       "      <th>0</th>\n",
       "      <td>0</td>\n",
       "      <td>A great app. It's like carrying a bank in your...</td>\n",
       "      <td>4</td>\n",
       "      <td>2025-06-07 20:21:52</td>\n",
       "      <td>Commercial Bank of Ethiopia</td>\n",
       "      <td>Google Play Store</td>\n",
       "    </tr>\n",
       "    <tr>\n",
       "      <th>1</th>\n",
       "      <td>1</td>\n",
       "      <td>More than garrantty bank EBC.</td>\n",
       "      <td>4</td>\n",
       "      <td>2025-06-07 18:21:26</td>\n",
       "      <td>Commercial Bank of Ethiopia</td>\n",
       "      <td>Google Play Store</td>\n",
       "    </tr>\n",
       "    <tr>\n",
       "      <th>2</th>\n",
       "      <td>2</td>\n",
       "      <td>really am happy to this app it is Siple to use...</td>\n",
       "      <td>5</td>\n",
       "      <td>2025-06-07 11:02:38</td>\n",
       "      <td>Commercial Bank of Ethiopia</td>\n",
       "      <td>Google Play Store</td>\n",
       "    </tr>\n",
       "    <tr>\n",
       "      <th>3</th>\n",
       "      <td>3</td>\n",
       "      <td>I liked this app. But the User interface is ve...</td>\n",
       "      <td>2</td>\n",
       "      <td>2025-06-07 10:50:29</td>\n",
       "      <td>Commercial Bank of Ethiopia</td>\n",
       "      <td>Google Play Store</td>\n",
       "    </tr>\n",
       "    <tr>\n",
       "      <th>4</th>\n",
       "      <td>4</td>\n",
       "      <td>\"Why don’t your ATMs support account-to-accoun...</td>\n",
       "      <td>4</td>\n",
       "      <td>2025-06-06 09:54:11</td>\n",
       "      <td>Commercial Bank of Ethiopia</td>\n",
       "      <td>Google Play Store</td>\n",
       "    </tr>\n",
       "  </tbody>\n",
       "</table>\n",
       "</div>"
      ],
      "text/plain": [
       "   Unnamed: 0                                             review  rating  \\\n",
       "0           0  A great app. It's like carrying a bank in your...       4   \n",
       "1           1                      More than garrantty bank EBC.       4   \n",
       "2           2  really am happy to this app it is Siple to use...       5   \n",
       "3           3  I liked this app. But the User interface is ve...       2   \n",
       "4           4  \"Why don’t your ATMs support account-to-accoun...       4   \n",
       "\n",
       "                  date                         bank             source  \n",
       "0  2025-06-07 20:21:52  Commercial Bank of Ethiopia  Google Play Store  \n",
       "1  2025-06-07 18:21:26  Commercial Bank of Ethiopia  Google Play Store  \n",
       "2  2025-06-07 11:02:38  Commercial Bank of Ethiopia  Google Play Store  \n",
       "3  2025-06-07 10:50:29  Commercial Bank of Ethiopia  Google Play Store  \n",
       "4  2025-06-06 09:54:11  Commercial Bank of Ethiopia  Google Play Store  "
      ]
     },
     "execution_count": 1,
     "metadata": {},
     "output_type": "execute_result"
    }
   ],
   "source": [
    "import pandas as pd\n",
    "\n",
    "df = pd.read_csv(\"data/commercialBank_raw.csv\")\n",
    "df.head()"
   ]
  },
  {
   "cell_type": "markdown",
   "metadata": {},
   "source": [
    "removing duplicates"
   ]
  },
  {
   "cell_type": "code",
   "execution_count": 2,
   "metadata": {},
   "outputs": [],
   "source": [
    "df.drop_duplicates(inplace=True)"
   ]
  },
  {
   "cell_type": "markdown",
   "metadata": {},
   "source": [
    "cleaning the review data"
   ]
  },
  {
   "cell_type": "code",
   "execution_count": 3,
   "metadata": {},
   "outputs": [],
   "source": [
    "import re\n",
    "\n",
    "def clean_text(text):\n",
    "    text = str(text).lower()                     # making all lowercase\n",
    "    text = re.sub(r\"\\s+\", \" \", text)             # remove extra spaces using regex\n",
    "    return text.strip()\n",
    "\n",
    "df['review'] = df['review'].apply(clean_text)"
   ]
  },
  {
   "cell_type": "markdown",
   "metadata": {},
   "source": [
    "MISSING DATA: Dropping rows if review is missing otherwise filling the missing data"
   ]
  },
  {
   "cell_type": "code",
   "execution_count": 4,
   "metadata": {},
   "outputs": [],
   "source": [
    "df.dropna(subset=['review'], inplace=True)\n",
    "df.fillna(\"NA\",inplace=True)"
   ]
  },
  {
   "cell_type": "markdown",
   "metadata": {},
   "source": [
    "INCONSISTENT DATA: normalizing the date column to have consistent data format"
   ]
  },
  {
   "cell_type": "code",
   "execution_count": 5,
   "metadata": {},
   "outputs": [
    {
     "data": {
      "text/html": [
       "<div>\n",
       "<style scoped>\n",
       "    .dataframe tbody tr th:only-of-type {\n",
       "        vertical-align: middle;\n",
       "    }\n",
       "\n",
       "    .dataframe tbody tr th {\n",
       "        vertical-align: top;\n",
       "    }\n",
       "\n",
       "    .dataframe thead th {\n",
       "        text-align: right;\n",
       "    }\n",
       "</style>\n",
       "<table border=\"1\" class=\"dataframe\">\n",
       "  <thead>\n",
       "    <tr style=\"text-align: right;\">\n",
       "      <th></th>\n",
       "      <th>Unnamed: 0</th>\n",
       "      <th>review</th>\n",
       "      <th>rating</th>\n",
       "      <th>date</th>\n",
       "      <th>bank</th>\n",
       "      <th>source</th>\n",
       "    </tr>\n",
       "  </thead>\n",
       "  <tbody>\n",
       "    <tr>\n",
       "      <th>0</th>\n",
       "      <td>0</td>\n",
       "      <td>a great app. it's like carrying a bank in your...</td>\n",
       "      <td>4</td>\n",
       "      <td>2025-06-07 20:21:52</td>\n",
       "      <td>Commercial Bank of Ethiopia</td>\n",
       "      <td>Google Play Store</td>\n",
       "    </tr>\n",
       "    <tr>\n",
       "      <th>1</th>\n",
       "      <td>1</td>\n",
       "      <td>more than garrantty bank ebc.</td>\n",
       "      <td>4</td>\n",
       "      <td>2025-06-07 18:21:26</td>\n",
       "      <td>Commercial Bank of Ethiopia</td>\n",
       "      <td>Google Play Store</td>\n",
       "    </tr>\n",
       "    <tr>\n",
       "      <th>2</th>\n",
       "      <td>2</td>\n",
       "      <td>really am happy to this app it is siple to use...</td>\n",
       "      <td>5</td>\n",
       "      <td>2025-06-07 11:02:38</td>\n",
       "      <td>Commercial Bank of Ethiopia</td>\n",
       "      <td>Google Play Store</td>\n",
       "    </tr>\n",
       "    <tr>\n",
       "      <th>3</th>\n",
       "      <td>3</td>\n",
       "      <td>i liked this app. but the user interface is ve...</td>\n",
       "      <td>2</td>\n",
       "      <td>2025-06-07 10:50:29</td>\n",
       "      <td>Commercial Bank of Ethiopia</td>\n",
       "      <td>Google Play Store</td>\n",
       "    </tr>\n",
       "    <tr>\n",
       "      <th>4</th>\n",
       "      <td>4</td>\n",
       "      <td>\"why don’t your atms support account-to-accoun...</td>\n",
       "      <td>4</td>\n",
       "      <td>2025-06-06 09:54:11</td>\n",
       "      <td>Commercial Bank of Ethiopia</td>\n",
       "      <td>Google Play Store</td>\n",
       "    </tr>\n",
       "  </tbody>\n",
       "</table>\n",
       "</div>"
      ],
      "text/plain": [
       "   Unnamed: 0                                             review  rating  \\\n",
       "0           0  a great app. it's like carrying a bank in your...       4   \n",
       "1           1                      more than garrantty bank ebc.       4   \n",
       "2           2  really am happy to this app it is siple to use...       5   \n",
       "3           3  i liked this app. but the user interface is ve...       2   \n",
       "4           4  \"why don’t your atms support account-to-accoun...       4   \n",
       "\n",
       "                 date                         bank             source  \n",
       "0 2025-06-07 20:21:52  Commercial Bank of Ethiopia  Google Play Store  \n",
       "1 2025-06-07 18:21:26  Commercial Bank of Ethiopia  Google Play Store  \n",
       "2 2025-06-07 11:02:38  Commercial Bank of Ethiopia  Google Play Store  \n",
       "3 2025-06-07 10:50:29  Commercial Bank of Ethiopia  Google Play Store  \n",
       "4 2025-06-06 09:54:11  Commercial Bank of Ethiopia  Google Play Store  "
      ]
     },
     "execution_count": 5,
     "metadata": {},
     "output_type": "execute_result"
    }
   ],
   "source": [
    "df['date'] = pd.to_datetime(df['date'], errors='coerce')\n",
    "df.head()"
   ]
  },
  {
   "cell_type": "markdown",
   "metadata": {},
   "source": [
    "making sure the rating is in range"
   ]
  },
  {
   "cell_type": "code",
   "execution_count": 6,
   "metadata": {},
   "outputs": [],
   "source": [
    "df = df[df['rating'].between(1, 5)]"
   ]
  },
  {
   "cell_type": "markdown",
   "metadata": {},
   "source": [
    "saving to csv"
   ]
  },
  {
   "cell_type": "code",
   "execution_count": 7,
   "metadata": {},
   "outputs": [],
   "source": [
    "df.to_csv(\"data cleaning script and data/commercialBank_cleaned.csv\")"
   ]
  }
 ],
 "metadata": {
  "kernelspec": {
   "display_name": "Python 3",
   "language": "python",
   "name": "python3"
  },
  "language_info": {
   "codemirror_mode": {
    "name": "ipython",
    "version": 3
   },
   "file_extension": ".py",
   "mimetype": "text/x-python",
   "name": "python",
   "nbconvert_exporter": "python",
   "pygments_lexer": "ipython3",
   "version": "3.12.5"
  }
 },
 "nbformat": 4,
 "nbformat_minor": 2
}
